{
 "cells": [
  {
   "cell_type": "code",
   "execution_count": 14,
   "id": "b56ec3d4",
   "metadata": {},
   "outputs": [
    {
     "name": "stdout",
     "output_type": "stream",
     "text": [
      "Indivíduo do sexo masculino\n"
     ]
    }
   ],
   "source": [
    "# Teste de gravidez\n",
    "\n",
    "sexo = 'M'\n",
    "beta_hcg = 0\n",
    "\n",
    "if sexo == 'M':\n",
    "    print(\"Indivíduo do sexo masculino\")\n",
    "elif sexo == 'F':\n",
    "    if beta_hcg > 5:\n",
    "        print(\"Positivo\")\n",
    "    else:\n",
    "        print(\"Negativo\")\n"
   ]
  },
  {
   "cell_type": "code",
   "execution_count": 2,
   "id": "718e0ad5",
   "metadata": {},
   "outputs": [
    {
     "data": {
      "text/plain": [
       "{'name': 'nome', 'age': 'idade', 'income': 'renda'}"
      ]
     },
     "execution_count": 2,
     "metadata": {},
     "output_type": "execute_result"
    }
   ],
   "source": [
    "# Dicionário com variáveis que dão para traduzir.\n",
    "\n",
    "dic_renomeacao = {'name': 'nome', 'age': 'idade', 'income': 'renda'}\n",
    "dic_renomeacao\n"
   ]
  },
  {
   "cell_type": "code",
   "execution_count": 3,
   "id": "7ec73498",
   "metadata": {},
   "outputs": [
    {
     "name": "stdout",
     "output_type": "stream",
     "text": [
      "42 é divisível por 7\n"
     ]
    }
   ],
   "source": [
    "# Um número \"N\"é divisível por um número P?\n",
    "\n",
    "N = 42\n",
    "M = 7\n",
    "\n",
    "if N % M == 0:\n",
    "    print(f\"{N} é divisível por {M}\")\n",
    "else:\n",
    "    print(f\"{N} não é divisível por {M}\")\n"
   ]
  },
  {
   "cell_type": "code",
   "execution_count": 6,
   "id": "d250404b",
   "metadata": {},
   "outputs": [
    {
     "name": "stdout",
     "output_type": "stream",
     "text": [
      "47 é primo\n"
     ]
    }
   ],
   "source": [
    "# Números primos\n",
    "\n",
    "N = 47\n",
    "\n",
    "# Verifica se N é divisível por algum número entre 2 e N-1\n",
    "for i in range(2, N):\n",
    "    if N % i == 0:\n",
    "        print(f\"{N} não é primo\")\n",
    "        break\n",
    "else:\n",
    "    print(f\"{N} é primo\")\n"
   ]
  },
  {
   "cell_type": "code",
   "execution_count": 7,
   "id": "379ad1ef",
   "metadata": {},
   "outputs": [
    {
     "name": "stdout",
     "output_type": "stream",
     "text": [
      "47 é primo\n"
     ]
    }
   ],
   "source": [
    "# Recebendo um valor de altura, encontre o peso '*ideal*' dessa pessoa, que fornece o IMC encontrado acima\n",
    "\n",
    "import math\n",
    "\n",
    "N = 47\n",
    "\n",
    "if N == 2 or N == 3:\n",
    "    print(f\"{N} é primo\")\n",
    "elif N % 2 == 0 or N % 3 == 0:\n",
    "    print(f\"{N} não é primo\")\n",
    "else:\n",
    "    is_prime = True\n",
    "    limit = int(math.sqrt(N)) + 1\n",
    "\n",
    "    for i in range(5, limit, 6):\n",
    "        if N % i == 0 or N % (i + 2) == 0:\n",
    "            is_prime = False\n",
    "            break\n",
    "    \n",
    "    if is_prime:\n",
    "        print(f\"{N} é primo\")\n",
    "    else:\n",
    "        print(f\"{N} não é primo\")\n"
   ]
  },
  {
   "cell_type": "code",
   "execution_count": 8,
   "id": "cc00c1de",
   "metadata": {},
   "outputs": [
    {
     "name": "stdout",
     "output_type": "stream",
     "text": [
      "O ponto médio do IMC ideal é: 21.7\n"
     ]
    }
   ],
   "source": [
    "#Dada uma lista contendo as alturas de pacientes, crie uma nova lista que contenha o peso '*ideal*' (que fornece o IMC calculado em **Peso ideal 1**) desses pacientes.\n",
    "\n",
    "imc_ideal = (18.5 + 24.9) / 2\n",
    "print(f\"O ponto médio do IMC ideal é: {imc_ideal}\")\n"
   ]
  },
  {
   "cell_type": "code",
   "execution_count": 10,
   "id": "4aceff5f",
   "metadata": {},
   "outputs": [
    {
     "name": "stdout",
     "output_type": "stream",
     "text": [
      "O peso ideal para uma altura de 1.7 metros é: 62.71 kg\n"
     ]
    }
   ],
   "source": [
    "# Dada uma lista de tuplas - cada elemento da lista é uma tupla contendo altura e peso de um paciente - crie uma nova lista com o IMC desses pacientes.\n",
    "\n",
    "altura = 1.70\n",
    "imc_ideal = 21.7\n",
    "\n",
    "peso_ideal = imc_ideal * altura**2\n",
    "print(f\"O peso ideal para uma altura de {altura} metros é: {peso_ideal:.2f} kg\")\n"
   ]
  },
  {
   "cell_type": "code",
   "execution_count": 11,
   "id": "e0e446ff",
   "metadata": {},
   "outputs": [
    {
     "name": "stdout",
     "output_type": "stream",
     "text": [
      "Lista de pesos ideais:\n",
      "[82.51424999999999, 91.19425, 62.712999999999994, 59.07824999999999]\n"
     ]
    }
   ],
   "source": [
    "#Dada uma lista contendo as alturas de pacientes, crie uma nova lista que contenha o peso '*ideal*' (que fornece o IMC calculado em **Peso ideal 1**) desses pacientes.\n",
    "\n",
    "lista_alturas = [1.95, 2.05, 1.70, 1.65]\n",
    "imc_ideal = 21.7\n",
    "\n",
    "lista_peso_ideal = []\n",
    "\n",
    "for altura in lista_alturas:\n",
    "    peso_ideal = imc_ideal * altura**2\n",
    "    lista_peso_ideal.append(peso_ideal)\n",
    "\n",
    "print(\"Lista de pesos ideais:\")\n",
    "print(lista_peso_ideal)\n"
   ]
  },
  {
   "cell_type": "code",
   "execution_count": 12,
   "id": "6d5facde",
   "metadata": {},
   "outputs": [
    {
     "name": "stdout",
     "output_type": "stream",
     "text": [
      "Lista de IMC:\n",
      "[27.777777777777775, 27.548209366391188, 19.188070502453332]\n"
     ]
    }
   ],
   "source": [
    "#Dada uma lista de tuplas - cada elemento da lista é uma tupla contendo altura e peso de um paciente - crie uma nova lista com o IMC desses pacientes.\n",
    "\n",
    "altura_peso = [(1.80, 90), (1.65, 75), (1.91, 70)]\n",
    "\n",
    "imc = []\n",
    "\n",
    "for altura, peso in altura_peso:\n",
    "    imc_paciente = peso / (altura ** 2)\n",
    "    imc.append(imc_paciente)\n",
    "\n",
    "print(\"Lista de IMC:\")\n",
    "print(imc)\n"
   ]
  },
  {
   "cell_type": "code",
   "execution_count": 13,
   "id": "7bfe659e",
   "metadata": {},
   "outputs": [
    {
     "name": "stdout",
     "output_type": "stream",
     "text": [
      "Lista de altura, peso, IMC e classificação:\n",
      "[[1.8, 90, 27.777777777777775, 'alto'], [1.65, 75, 27.548209366391188, 'alto'], [1.91, 70, 19.188070502453332, 'normal']]\n"
     ]
    }
   ],
   "source": [
    "#Reflexão: por que no problema anterior temos que criar uma nova lista, e não podemos adicionar os dados de cada indivíduo à tupla?\n",
    "\n",
    "altura_peso = [[1.80, 90], [1.65, 75], [1.91, 70]]\n",
    "\n",
    "for paciente in altura_peso:\n",
    "    altura = paciente[0]\n",
    "    peso = paciente[1]\n",
    "    imc = peso / (altura ** 2)\n",
    "    paciente.append(imc)\n",
    "    \n",
    "    if imc < 18.5:\n",
    "        paciente.append('baixo')\n",
    "    elif 18.5 <= imc <= 24.9:\n",
    "        paciente.append('normal')\n",
    "    else:\n",
    "        paciente.append('alto')\n",
    "\n",
    "print(\"Lista de altura, peso, IMC e classificação:\")\n",
    "print(altura_peso)\n"
   ]
  }
 ],
 "metadata": {
  "kernelspec": {
   "display_name": "Python 3 (ipykernel)",
   "language": "python",
   "name": "python3"
  },
  "language_info": {
   "codemirror_mode": {
    "name": "ipython",
    "version": 3
   },
   "file_extension": ".py",
   "mimetype": "text/x-python",
   "name": "python",
   "nbconvert_exporter": "python",
   "pygments_lexer": "ipython3",
   "version": "3.10.9"
  }
 },
 "nbformat": 4,
 "nbformat_minor": 5
}
